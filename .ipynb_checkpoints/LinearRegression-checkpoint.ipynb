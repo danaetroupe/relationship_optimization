{
 "cells": [
  {
   "cell_type": "code",
   "execution_count": 1,
   "id": "71fca449-01b8-4b7e-baa5-5abf751a72c8",
   "metadata": {},
   "outputs": [],
   "source": [
    "from sklearn.linear_model import LinearRegression\n",
    "from sklearn.model_selection import train_test_split\n",
    "from sklearn.metrics import r2_score\n",
    "import pandas as pd"
   ]
  },
  {
   "cell_type": "code",
   "execution_count": 2,
   "id": "98a05284-46bc-48d3-aa9a-3953c6ed0730",
   "metadata": {},
   "outputs": [],
   "source": [
    "df = pd.read_csv('Relshare.csv')"
   ]
  },
  {
   "cell_type": "code",
   "execution_count": null,
   "id": "ac3e99f9-da14-44bc-9744-20d3379c4ded",
   "metadata": {},
   "outputs": [],
   "source": [
    "diffs = df[['extroversiondiff','agreeablenessdiff','conscientiousnessdiff','stabilitydiff','opennessdiff']]\n",
    "satisfaction = df['satisfactiondiff']"
   ]
  }
 ],
 "metadata": {
  "kernelspec": {
   "display_name": "Python 3 (ipykernel)",
   "language": "python",
   "name": "python3"
  },
  "language_info": {
   "codemirror_mode": {
    "name": "ipython",
    "version": 3
   },
   "file_extension": ".py",
   "mimetype": "text/x-python",
   "name": "python",
   "nbconvert_exporter": "python",
   "pygments_lexer": "ipython3",
   "version": "3.11.9"
  }
 },
 "nbformat": 4,
 "nbformat_minor": 5
}
